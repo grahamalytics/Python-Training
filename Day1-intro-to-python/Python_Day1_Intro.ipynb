{
 "cells": [
  {
   "cell_type": "markdown",
   "metadata": {},
   "source": [
    "# Brierley Python Training Day 1"
   ]
  },
  {
   "cell_type": "markdown",
   "metadata": {},
   "source": [
    "\n",
    "# <font color = '#526520'> Introduction to Python </font>\n",
    "\n",
    "Python is a general-purpose high-level programming language; created by Guido van Rossum in 1989 and named after Monty Python's Flying Circus.\n",
    "\n",
    "It is a multi-paradigm language with implementations of functional, object-oriented, procedural, and logical programming languages.\n",
    "\n",
    "Python's guiding priniciples favor (among other things) code readability, simplicity over complexity, and explicit code over implicit code. Check out the rest of the principles in [The Zen of Python](https://www.python.org/dev/peps/pep-0020/). \n",
    "\n",
    "\n",
    "## Python vs. IPython\n",
    "When first getting started with Python, you will come across materials which refer to IPython. This might lead you to ask, \"what's the distinction, then, between Python and IPython?\"\n",
    "\n",
    "Put simply, the IPython shell is an extension of the Python shell with additional functionality:\n",
    "- System Interaction (i.e. Linux commands)\n",
    "- Path Completion & Command Completion\n",
    "- Specialty Commands (begin with %)\n",
    "- Integrated Python help and documentation\n",
    "- And more!\n",
    "\n",
    "IPython is a separate project from Python and thus is installed separately from Python. Thankfully, the Anaconda build from Continuum Analytics takes care of all this for us!"
   ]
  },
  {
   "cell_type": "markdown",
   "metadata": {},
   "source": [
    "# <font color = '#526520'> Course Roadmap </font>\n",
    "\n",
    "* Day 1: Intro to Python\n",
    "\n",
    "    * Spyder IDE\n",
    "    * Python Fundamentals\n",
    "    * Intro to Object Oriented Programming (OOP)\n",
    "    * Errors, Exceptions, and Debugging\n",
    "    * Example of Python in Action! (if time permits) <br> <br>\n",
    "\n",
    "* Day 2: Python Packages\n",
    "    * Control Flow\n",
    "    * Standard packages / modules overview\n",
    "    * Very brief introduction to Numpy\n",
    "    * Pandas & Pandas' Dataframes\n",
    "    * SkiKit Learn (machine learning example)\n",
    "    * Example of Python in Action! (if time permits) <br> <br>\n",
    "\n",
    "* Day 3: \n",
    "    * Day 1 & Day 2 Review\n",
    "    * Questions / Answers \n",
    "    * Popular Python APIs\n",
    "    * Helpful Python Packages / Modules\n",
    "    * HANDS ON LIVE CODING EXERCISE \n",
    "    * Example of Python in Action! (if time permits)\n",
    "\n",
    "<!-- Examples: query builder, John's JIRA thing, building sqllite database, google geocoding API -->\n"
   ]
  },
  {
   "cell_type": "markdown",
   "metadata": {},
   "source": [
    "# <font color = '#526520'> Get to know your IDE </font>\n",
    "\n",
    "### What is an IDE\n",
    "IDE stands for integrated development environment -- this is an application that allows you to write and run code in a single window. It also has many useful features such as text auto-completion, syntax highlighting, variable exploration, and debugging. \n",
    "\n",
    "### Spyder\n",
    "There are many Python IDEs but one of the most popular (and most useful for data analysis) is Spyder. Spyder gives you all of the features of a typical IDE but also comes with all of the key scientific modules built in so it is able to do analysis right out of the box.  <br>\n",
    "\n",
    "\n",
    "If you'd like to learn more about the platform, check out the [Spyder Documentation](https://pythonhosted.org/spyder/)"
   ]
  },
  {
   "cell_type": "markdown",
   "metadata": {},
   "source": [
    "# <font color = '#526520'> Notes on Python Before Getting Started </font>\n",
    "\n",
    "### Comments\n",
    "A lot of the notes in the syntax contained below will be in the form of comments.\n",
    "\n",
    "Single-line comments in Python start with the **`#`** character <br>\n",
    "\n",
    "Multi-line comments are wrapped with triple single quotes  **`'''`** comment here **`'''`**\n",
    "\n",
    "### The Print Statement\n",
    "\n",
    "Python has a function called `print()` # your first function!\n",
    "\n",
    "This function has one purpose, to display information to your screen.\n",
    "\n",
    "This function will be explained later when we talk about functions in more detail, but will appear in many of our examples below prior to definition\n",
    "\n",
    "### White Space (Indentation)\n",
    "Compared to other programming languages, Python uses indentation to define code blocks rather than curly braces {} or some other bracket symbol. Due to this behavior, it is important to pay attention to indentation while writing code and ensure that the same indentation is applied to all code that is to be run together (e.g. all code within a *for loop*). This will be explored during the **Control Flow** portion of this training."
   ]
  },
  {
   "cell_type": "markdown",
   "metadata": {},
   "source": [
    "# <font color = '#526520'> Variables </font>\n",
    "\n",
    "*Variables* at their most basic form are locations in memory where information is stored. <br>\n",
    "\n",
    "Unlike many programming languages, Python does not require any explicit declaration meaning that Python is smart enough to detect the datatype of data stored in variables automatically. <br>\n",
    "\n",
    "The four most commonly used variable datatypes are....\n",
    "\n",
    "| Data Type | Description | Casting Method (for converting between) |\n",
    "|---|---|---|\n",
    "| Boolean | Logical datatype (True or False); can also be represented as 0 (False) or 1 (True) | bool() |\n",
    "| Integer | Whole number, can be positive or negative or 0. (e.g. 10, -10, 0) | int() |\n",
    "| Float | A real number that can contain fractional parts, decimals, and even irrational numbers (e.g. -2.0, 1.534)| float() |\n",
    "| String | Strings are an object made up of one or more characters (e.g. 'hello world') | str() |\n",
    "\n",
    "Other variables called compound variables exist -- some of these get explored below  <br> \n",
    "\n",
    "Compound Variables (aka 'collections'): \n",
    "* lists\n",
    "* tuples\n",
    "* sets\n",
    "* frozensets\n",
    "* dictionaries\n",
    "\n",
    "For a complete list of Python datatypes, refer to the documentation for [Built-in Types](https://docs.python.org/3.6/library/stdtypes.html)\n",
    "\n",
    "If you ever want to check what datatype any variable is you can do so using the `type()` function\n",
    "\n",
    "\n"
   ]
  },
  {
   "cell_type": "code",
   "execution_count": 1,
   "metadata": {
    "ExecuteTime": {
     "end_time": "2019-03-05T23:57:44.996039Z",
     "start_time": "2019-03-05T23:57:44.980039Z"
    }
   },
   "outputs": [
    {
     "name": "stdout",
     "output_type": "stream",
     "text": [
      "type: <class 'int'>\n",
      "type: <class 'bool'>\n"
     ]
    }
   ],
   "source": [
    "#check the type of different variables\n",
    "#integer\n",
    "integer_variable = 1\n",
    "print('type:',type(integer_variable))\n",
    "\n",
    "type(integer_variable)\n",
    "\n",
    "boolean_variable = False\n",
    "print('type:',type(boolean_variable))"
   ]
  },
  {
   "cell_type": "markdown",
   "metadata": {},
   "source": [
    "### Strings in python\n",
    "\n",
    "To store a string into a variable you are required to surround it by either single quotes **`'my string'`** or double quotes **`\"my string\"`**\n",
    "<br>\n",
    "\n",
    "*Examples* <br>\n",
    "`\"hello, isn't Python lovely\"` this is valid <br>\n",
    "`'hello world'` this is also valid\n",
    "\n",
    "This flexibility makes it easy to include quotes within strings without having to explicity escape the quotations mark(s), as demonstrated above in the first example.\n",
    "\n",
    "\n",
    "\n",
    "### Variable Assignment & Naming Conventions\n",
    "Variable assignment in Python is done using the equal sign \"=\" <br>\n",
    "\n",
    "*Example* <br>\n",
    "`test_variable = 0`\n",
    "\n",
    "Because of the way that Python variables work you can store different datatypes in the same variable without needing to explicitly cast it to a different data type. An object's data type will be captured/updated with each assignment. <br>\n",
    "\n",
    "Python also supports multiple assignment syntax, making both of the following assignments valid:\n",
    "\n",
    "*Example of Transitive Assignment* <br>\n",
    "`var1 = var2 = 8`\n",
    "\n",
    "*Example of Distributive Assignment* <br>\n",
    "`var1, var2 = 10, 12`\n",
    "\n",
    "This means ....\n",
    "\n",
    "`a,b = 'a','b'` is the same as \n",
    "\n",
    "```\n",
    "a = 'a'\n",
    "b = 'b'\n",
    "```\n",
    "\n",
    "`var1 = var2 = 0` is the same as\n",
    "\n",
    "```\n",
    "var1 = 0\n",
    "var2 = 0\n",
    "```\n",
    "\n",
    "#### Naming Conventions \n",
    "* Variable names can contain letters, numbers, and underscores but must start with a letter. No special characters are allowed in variable names.\n",
    "* Variable names are case sensitive.\n",
    "* Avoid using Python's [special reserved words and keywords](https://www.programiz.com/python-programming/keywords-identifier)\n",
    "* Avoid beginning and ending with double underscores (\\__something__) as these are reserved for built-in object methods.\n",
    "* Convention for naming: initial capitalization for classes and intial lower cases for instances."
   ]
  },
  {
   "cell_type": "code",
   "execution_count": 2,
   "metadata": {
    "ExecuteTime": {
     "end_time": "2019-03-05T23:58:06.034039Z",
     "start_time": "2019-03-05T23:58:05.976039Z"
    }
   },
   "outputs": [
    {
     "name": "stdout",
     "output_type": "stream",
     "text": [
      "(1) string variable: Hello World\n",
      "(2) integer variable: 2\n",
      "(3) string variable: 2\n",
      "(4) transitive assignment: 8 8\n",
      "(5) distributive assignment: 10 12\n"
     ]
    },
    {
     "data": {
      "text/plain": [
       "['__abs__',\n",
       " '__add__',\n",
       " '__and__',\n",
       " '__bool__',\n",
       " '__ceil__',\n",
       " '__class__',\n",
       " '__delattr__',\n",
       " '__dir__',\n",
       " '__divmod__',\n",
       " '__doc__',\n",
       " '__eq__',\n",
       " '__float__',\n",
       " '__floor__',\n",
       " '__floordiv__',\n",
       " '__format__',\n",
       " '__ge__',\n",
       " '__getattribute__',\n",
       " '__getnewargs__',\n",
       " '__gt__',\n",
       " '__hash__',\n",
       " '__index__',\n",
       " '__init__',\n",
       " '__init_subclass__',\n",
       " '__int__',\n",
       " '__invert__',\n",
       " '__le__',\n",
       " '__lshift__',\n",
       " '__lt__',\n",
       " '__mod__',\n",
       " '__mul__',\n",
       " '__ne__',\n",
       " '__neg__',\n",
       " '__new__',\n",
       " '__or__',\n",
       " '__pos__',\n",
       " '__pow__',\n",
       " '__radd__',\n",
       " '__rand__',\n",
       " '__rdivmod__',\n",
       " '__reduce__',\n",
       " '__reduce_ex__',\n",
       " '__repr__',\n",
       " '__rfloordiv__',\n",
       " '__rlshift__',\n",
       " '__rmod__',\n",
       " '__rmul__',\n",
       " '__ror__',\n",
       " '__round__',\n",
       " '__rpow__',\n",
       " '__rrshift__',\n",
       " '__rshift__',\n",
       " '__rsub__',\n",
       " '__rtruediv__',\n",
       " '__rxor__',\n",
       " '__setattr__',\n",
       " '__sizeof__',\n",
       " '__str__',\n",
       " '__sub__',\n",
       " '__subclasshook__',\n",
       " '__truediv__',\n",
       " '__trunc__',\n",
       " '__xor__',\n",
       " 'bit_length',\n",
       " 'conjugate',\n",
       " 'denominator',\n",
       " 'from_bytes',\n",
       " 'imag',\n",
       " 'numerator',\n",
       " 'real',\n",
       " 'to_bytes']"
      ]
     },
     "execution_count": 2,
     "metadata": {},
     "output_type": "execute_result"
    }
   ],
   "source": [
    "#Variable Assignment Example --------------------------\n",
    "\n",
    "# (1)\n",
    "# assign a string to a variable\n",
    "string_variable = 'Hello World'\n",
    "print('(1) string variable:',string_variable)\n",
    "\n",
    "# (2)\n",
    "# assign an integer to a variable\n",
    "integer_variable = 2\n",
    "print('(2) integer variable:',integer_variable)\n",
    "\n",
    "# (3)\n",
    "#assign an integer to our string variable\n",
    "string_variable = 2\n",
    "print('(3) string variable:',string_variable)\n",
    "\n",
    "# (4)\n",
    "#assign same integer value to both var1 and var2\n",
    "var1 = var2 = 8\n",
    "print('(4) transitive assignment:', var1, var2)\n",
    "\n",
    "# (5)\n",
    "#assign different integer values to var1 and var2\n",
    "var1, var2 = 10, 12\n",
    "print('(5) distributive assignment:', var1, var2)\n",
    "\n",
    "# check what built in methods are available for your string_variable object\n",
    "dir(string_variable)"
   ]
  },
  {
   "cell_type": "markdown",
   "metadata": {},
   "source": [
    "# <font color = '#526520'> Manipulating and Comparing Variables </font>\n",
    "\n",
    "\n",
    "## Manipulating Variables\n",
    "\n",
    "### Mutable vs. Immutable\n",
    "Immutable means that a value cannot be changed after initial assignment, note that this is different from over-writing a variable after first assignment. The only two objects that are immutable are **tuple** and **frozenset**.\n",
    "\n",
    "Let's explore these concepts by comparing **lists** with **tuples** with respect to both variable assignment and modification:"
   ]
  },
  {
   "cell_type": "code",
   "execution_count": 13,
   "metadata": {
    "ExecuteTime": {
     "end_time": "2019-03-06T00:07:34.241130Z",
     "start_time": "2019-03-06T00:07:34.228129Z"
    }
   },
   "outputs": [
    {
     "name": "stdout",
     "output_type": "stream",
     "text": [
      "[1, 2, 3, 4]\n"
     ]
    }
   ],
   "source": [
    "my_list = [1, 2, 3, 4]\n",
    "print(my_list)"
   ]
  },
  {
   "cell_type": "code",
   "execution_count": 14,
   "metadata": {
    "ExecuteTime": {
     "end_time": "2019-03-06T00:07:34.840190Z",
     "start_time": "2019-03-06T00:07:34.827189Z"
    }
   },
   "outputs": [
    {
     "name": "stdout",
     "output_type": "stream",
     "text": [
      "[9, 2, 3, 4]\n"
     ]
    }
   ],
   "source": [
    "my_list[0] = 9\n",
    "print(my_list)"
   ]
  },
  {
   "cell_type": "code",
   "execution_count": 15,
   "metadata": {
    "ExecuteTime": {
     "end_time": "2019-03-06T00:07:35.564263Z",
     "start_time": "2019-03-06T00:07:35.553262Z"
    }
   },
   "outputs": [
    {
     "name": "stdout",
     "output_type": "stream",
     "text": [
      "('a', 'b', 'c')\n"
     ]
    }
   ],
   "source": [
    "my_tuple = ('a', 'b', 'c')\n",
    "print(my_tuple)"
   ]
  },
  {
   "cell_type": "code",
   "execution_count": 16,
   "metadata": {
    "ExecuteTime": {
     "end_time": "2019-03-06T00:07:40.745781Z",
     "start_time": "2019-03-06T00:07:40.713778Z"
    }
   },
   "outputs": [
    {
     "ename": "TypeError",
     "evalue": "'tuple' object does not support item assignment",
     "output_type": "error",
     "traceback": [
      "\u001b[1;31m---------------------------------------------------------------------------\u001b[0m",
      "\u001b[1;31mTypeError\u001b[0m                                 Traceback (most recent call last)",
      "\u001b[1;32m<ipython-input-16-ed926266ba17>\u001b[0m in \u001b[0;36m<module>\u001b[1;34m()\u001b[0m\n\u001b[1;32m----> 1\u001b[1;33m \u001b[0mmy_tuple\u001b[0m\u001b[1;33m[\u001b[0m\u001b[1;36m0\u001b[0m\u001b[1;33m]\u001b[0m \u001b[1;33m=\u001b[0m \u001b[1;34m'z'\u001b[0m\u001b[1;33m\u001b[0m\u001b[0m\n\u001b[0m",
      "\u001b[1;31mTypeError\u001b[0m: 'tuple' object does not support item assignment"
     ]
    }
   ],
   "source": [
    "my_tuple[0] = 'z'"
   ]
  },
  {
   "cell_type": "code",
   "execution_count": 17,
   "metadata": {
    "ExecuteTime": {
     "end_time": "2019-03-06T00:07:48.318538Z",
     "start_time": "2019-03-06T00:07:48.307537Z"
    }
   },
   "outputs": [
    {
     "name": "stdout",
     "output_type": "stream",
     "text": [
      "('z', 'b', 'c')\n"
     ]
    }
   ],
   "source": [
    "my_tuple = ('z', 'b', 'c')\n",
    "\n",
    "print(my_tuple)"
   ]
  },
  {
   "cell_type": "markdown",
   "metadata": {},
   "source": [
    "# <font color = '#526520'> Manipulating and Comparing Variables </font>\n",
    "\n",
    "\n",
    "## Manipulating Variables\n",
    "\n",
    "### Mutable vs. Immutable\n",
    "Immutable means that a value cannot be changed after initial assignment. The only two objects that are immutable are tuple and frozenset.\n",
    "\n",
    "### Reflexive Assignment\n",
    "\n",
    "There are some shortcuts that can be used to easily manipulate variables without needing to create a new variable\n",
    "\n",
    "| Operation | Syntax | Description | \n",
    "| --- | --- | --- |\n",
    "| Addition| += | add something to the current variable |\n",
    "| Subtraction | -= | subtract something from the current variable |\n",
    "| Multiplication | \\*= | multiply the current variable by something |\n",
    "| Multiplication | \\*= | multiply the current variable by something |\n",
    "| Division | \\\\= | Divide the current variable by something |\n",
    "| Modulous | %= | Perform the modulous function on the current variable |\n",
    "| Exponent | \\**= | Raise the current variable to an exponent |"
   ]
  },
  {
   "cell_type": "code",
   "execution_count": 18,
   "metadata": {
    "ExecuteTime": {
     "end_time": "2019-03-06T00:07:54.389145Z",
     "start_time": "2019-03-06T00:07:54.369143Z"
    }
   },
   "outputs": [
    {
     "name": "stdout",
     "output_type": "stream",
     "text": [
      "integer variable: 6\n",
      "string variable: dogs\n",
      "integer variable: 8\n",
      "0\n"
     ]
    }
   ],
   "source": [
    "# Variable Manipulations\n",
    "# create a variable containing an integer and add 2 to it\n",
    "integer_variable = 4\n",
    "integer_variable += 2 #add 2 to the variable\n",
    "print('integer variable:',integer_variable)\n",
    "\n",
    "#create a string variable and add an s to the end\n",
    "string_variable = 'dog' # sorry cat people\n",
    "string_variable += 's'\n",
    "print('string variable:', string_variable)\n",
    "\n",
    "# Variable Manipulations\n",
    "# create a variable containing an integer and multiply it by 2\n",
    "integer_variable = 4\n",
    "integer_variable *= 2 #multiply it by 2\n",
    "print('integer variable:',integer_variable)\n",
    "\n",
    "integer_variable %= 2 \n",
    "print(integer_variable)"
   ]
  },
  {
   "cell_type": "markdown",
   "metadata": {},
   "source": [
    "## Comparing Variables\n",
    "\n",
    "### Booleans in python\n",
    "\n",
    "In Python there are two boolean keywords `True` (capitol T) and `False` (capitol F). These can also be represented as 0 (False) or 1 (True). <br>\n",
    "\n",
    "### Logical operators. \n",
    "The following logical operators can be used to compare two (or more) variables. <br>\n",
    "\n",
    "* \"==\" checks if two values are equal\n",
    "* \"!=\" check if two values are not equal\n",
    "* \">\" greater than; \">=\" greater than or equal\n",
    "* \"<\" less than; \"<=\" less than or equal\n",
    "\n",
    "Note: Operators can be used to compare between any type of variable <br>"
   ]
  },
  {
   "cell_type": "code",
   "execution_count": 19,
   "metadata": {
    "ExecuteTime": {
     "end_time": "2019-03-06T00:07:59.180624Z",
     "start_time": "2019-03-06T00:07:59.160622Z"
    }
   },
   "outputs": [
    {
     "name": "stdout",
     "output_type": "stream",
     "text": [
      "Comparison 1: True\n",
      "Comparison 2: False\n",
      "Comparison 3: True\n",
      "Comparison 4: False\n"
     ]
    }
   ],
   "source": [
    "# Boolean Comparisons\n",
    "# int vs int\n",
    "comp1 = 2 < 4\n",
    "print('Comparison 1:', comp1)\n",
    "\n",
    "#float vs float \n",
    "comp2 = 2.45 == 2.43\n",
    "print('Comparison 2:', comp2)\n",
    "\n",
    "#string comparison\n",
    "comp3 = 'TeSt' == 'TeSt'\n",
    "print('Comparison 3:', comp3)\n",
    "\n",
    "\n",
    "#string vs int -- possible comparison will always be False\n",
    "comp4 = '2' == 2\n",
    "print('Comparison 4:', comp4)\n"
   ]
  },
  {
   "cell_type": "markdown",
   "metadata": {},
   "source": [
    "### Working with String Objects in Python\n",
    "\n",
    "Python has some very useful built-in behavior for parsing, transforming, and slicing strings. Before looking at some examples, let's get an idea of how Python stores strings in memory. Let's assume we have the string 'BRIERLEY' stored in a string object.\n",
    "\n",
    "Under the hood, Python stores a string object as an array of characters.\n",
    "\n",
    "This implementation makes it a breeze to index, slice, and dice string objects. \n",
    "\n",
    "<img src = 'https://i.imgur.com/ITLZrwd.png' alt = 'Indexing in Python'/>\n",
    "\n",
    "Indexes in Python start at 0 and end a *n*, where *n* is the number of characters in the string. Indices can be both positive (going from left to right) and negative (going from right to left).\n",
    "\n",
    "The best way to think about indexes, especially in the context of slicing, is that the indices point *between* characters.\n",
    "\n",
    "There are also several built-in string methods, which can be called upon any string object. We can find the list of these methods using the **dir()** function."
   ]
  },
  {
   "cell_type": "code",
   "execution_count": 36,
   "metadata": {
    "ExecuteTime": {
     "end_time": "2019-03-06T00:18:30.389035Z",
     "start_time": "2019-03-06T00:18:30.380035Z"
    }
   },
   "outputs": [
    {
     "name": "stdout",
     "output_type": "stream",
     "text": [
      "b\n",
      "bri\n"
     ]
    }
   ],
   "source": [
    "my_string = 'brierley'\n",
    "\n",
    "# extract first letter of string\n",
    "print(my_string[0])\n",
    "\n",
    "# note that when using : to index a range, it is exclusive of the upper end\n",
    "print(my_string[0:3])"
   ]
  },
  {
   "cell_type": "code",
   "execution_count": 37,
   "metadata": {
    "ExecuteTime": {
     "end_time": "2019-03-06T00:18:31.093035Z",
     "start_time": "2019-03-06T00:18:31.078035Z"
    }
   },
   "outputs": [
    {
     "name": "stdout",
     "output_type": "stream",
     "text": [
      "ey\n",
      "brierl\n",
      "rle\n"
     ]
    }
   ],
   "source": [
    "# negative indexing of string\n",
    "# get last two letters\n",
    "print(my_string[-2:])\n",
    "\n",
    "# get all but last two letters\n",
    "print(my_string[:-2])\n",
    "\n",
    "# slicing with negative indices\n",
    "print(my_string[-4:-1])"
   ]
  },
  {
   "cell_type": "code",
   "execution_count": 38,
   "metadata": {
    "ExecuteTime": {
     "end_time": "2019-03-06T00:18:31.865035Z",
     "start_time": "2019-03-06T00:18:31.849035Z"
    }
   },
   "outputs": [
    {
     "name": "stdout",
     "output_type": "stream",
     "text": [
      "['capitalize', 'casefold', 'center', 'count', 'encode', 'endswith', 'expandtabs', 'find', 'format', 'format_map', 'index', 'isalnum', 'isalpha', 'isdecimal', 'isdigit', 'isidentifier', 'islower', 'isnumeric', 'isprintable', 'isspace', 'istitle', 'isupper', 'join', 'ljust', 'lower', 'lstrip', 'maketrans', 'partition', 'replace', 'rfind', 'rindex', 'rjust', 'rpartition', 'rsplit', 'rstrip', 'split', 'splitlines', 'startswith', 'strip', 'swapcase', 'title', 'translate', 'upper', 'zfill']\n"
     ]
    }
   ],
   "source": [
    "# View list of methods available for use on strings\n",
    "# we're taking a subset of this list so as to just return the methods\n",
    "print(dir(str)[33:])"
   ]
  },
  {
   "cell_type": "code",
   "execution_count": 39,
   "metadata": {
    "ExecuteTime": {
     "end_time": "2019-03-06T00:18:32.701035Z",
     "start_time": "2019-03-06T00:18:32.685035Z"
    }
   },
   "outputs": [
    {
     "name": "stdout",
     "output_type": "stream",
     "text": [
      "hello, world!\n",
      "hello, hello, hello, world!\n",
      "3\n",
      "I LOVE PYTHON!\n",
      "I love analytics!\n"
     ]
    }
   ],
   "source": [
    "#Working with Strings Example ----------------------------\n",
    "\n",
    "# (1)\n",
    "# concatenate strings with '+' operator\n",
    "print('hello, ' + 'world!')\n",
    "\n",
    "# (2)\n",
    "# repeate strings with '*' operator\n",
    "print('hello, ' * 3 + 'world!')\n",
    "\n",
    "# (3)\n",
    "# use the 'find' method to identify the index position where a substring starts\n",
    "myString = 'I love Python!'\n",
    "print(myString.find('ove'))\n",
    "\n",
    "# (4)\n",
    "# cast myString to all uppercase using the 'upper' method\n",
    "print(myString.upper())\n",
    "\n",
    "# (5)\n",
    "# use replace to match a pattern within the string and replace it with a different string\n",
    "print(myString.replace('Python', 'analytics'))"
   ]
  },
  {
   "cell_type": "markdown",
   "metadata": {},
   "source": [
    "# <font color = '#526520'> Python Functions </font>\n",
    "\n",
    "As we have alluded to one of the great things about Python is how many helpful functions come built-in.\n",
    "\n",
    "These functions allow you to perform common tasks without having to re-write any code yourself.\n",
    "\n",
    "The full list of built-in functions can be found in Python's [Built-in Functions Documentation](https://docs.python.org/3/library/functions.html). This is worth taking some time to review and understand what is available to you without importing a module. \n",
    "\n",
    "**HINT:** if you are looking to perform an operation that is not contained within this list, you WILL have to import a module (or write the operation yourself!).\n",
    "\n",
    "## Print Statement\n",
    "Many of the examples below use print statements to output various forms of information to the screen. The syntax for printing something to a screen in Python is `print(thing to print)`. <br>\n",
    "\n",
    "You can use a single print statement to print text and a value stored in a variable as long as you separate the two using a comma. <br>\n",
    "\n",
    "*Example*  <br>\n",
    "`print('this is a description of the variable', the_variable)`\n"
   ]
  },
  {
   "cell_type": "code",
   "execution_count": 40,
   "metadata": {
    "ExecuteTime": {
     "end_time": "2019-03-06T00:18:35.409035Z",
     "start_time": "2019-03-06T00:18:35.395035Z"
    }
   },
   "outputs": [
    {
     "name": "stdout",
     "output_type": "stream",
     "text": [
      "0\n",
      "printing test variable 0\n"
     ]
    }
   ],
   "source": [
    "# make a variable\n",
    "test_variable = 0\n",
    "# Print statement\n",
    "print(test_variable)\n",
    "#Print description and variable\n",
    "#the comma will automatically insert a space between the description and the variable value\n",
    "print('printing test variable', test_variable) \n"
   ]
  },
  {
   "cell_type": "markdown",
   "metadata": {},
   "source": [
    "## Other Common Built-in Functions\n",
    "\n",
    "The documentation lists a total of 68 built-in functions. All of these are useful, and the behavior of many of them can be inferred from the name. Let's take some time to review some built-in functions that will be helpful during our time together:\n",
    "\n",
    "* `dir()` - Without arguments, returns the list of names in the current local scope. With an argument, it returns a list of valid attributes and methods for that object. \n",
    "    * NOTE that the list of methods can be incomplete, so it is always a good idea to check online in times of need <br> <br>\n",
    "\n",
    "* `help()` - The built-in help system. If no argument is given, interactive help is started on the console. If the argument is a string, then it is searched for as the name of a module, function, class, method, keyword, or documentation topic <br> <br>\n",
    "\n",
    "* `id()` - Returns the 'identity' of an object, which is guranteed to be unique and constant for the object during its lifetime. This is a good method for checking to see if you are operating upon an object or the copy of an object during iterative analysis <br> <br>\n",
    "\n",
    "* `isinstance()` - Returns True or False based upon whether some object is an instance of a given type <br> <br>\n",
    "\n",
    "* `type()` - Returns the type of an object"
   ]
  },
  {
   "cell_type": "code",
   "execution_count": 41,
   "metadata": {
    "ExecuteTime": {
     "end_time": "2019-03-06T00:18:44.543035Z",
     "start_time": "2019-03-06T00:18:44.523035Z"
    }
   },
   "outputs": [
    {
     "name": "stdout",
     "output_type": "stream",
     "text": [
      "Help on method_descriptor:\n",
      "\n",
      "split(...)\n",
      "    S.split(sep=None, maxsplit=-1) -> list of strings\n",
      "    \n",
      "    Return a list of the words in S, using sep as the\n",
      "    delimiter string.  If maxsplit is given, at most maxsplit\n",
      "    splits are done. If sep is not specified or is None, any\n",
      "    whitespace string is a separator and empty strings are\n",
      "    removed from the result.\n",
      "\n",
      "115640968 96268360\n",
      "True\n",
      "<class 'str'>\n"
     ]
    }
   ],
   "source": [
    "# Examples of common built-in functions\n",
    "# we've already seen examples of dir() and print()\n",
    "\n",
    "# (1)\n",
    "# let's see what help() returns\n",
    "help(str.split)\n",
    "\n",
    "# (2)\n",
    "# id() is used to view the location of an object in memory\n",
    "# VERY HELPFUL when determining if you modifying an object or a copy of that object\n",
    "my_var = ['hello', 'world']\n",
    "my_other_var = [1, 2, 3]\n",
    "\n",
    "print(id(my_var), id(my_other_var))\n",
    "\n",
    "# (3)\n",
    "# isinstance returns True or False based upon a check of the object type\n",
    "print(isinstance('a', str))\n",
    "\n",
    "# (4)\n",
    "# type returns the type of an object\n",
    "print(type('hello!'))"
   ]
  },
  {
   "cell_type": "markdown",
   "metadata": {},
   "source": [
    "## User-defined Functions\n",
    "\n",
    "User defined functions are, as noted in the name, defined by the person using Python. When you find yourself repeating the same steps/actions over again, there is a nice opportunity for defining a function that performs the specific task. You can then call this function on an object each time its needed. Also, if you cannot find a function from the variety of open sourced modules that meets your needs, you'll have to resort to writing your own.\n",
    "\n",
    "In order to do so, begin with the `def` statement followed by the name of your function, followed by a `:`, followed by your function code (*make sure to indent properly*). You can include any arguments your function takes inside parenthesis after your function name. Here is an example of a simple function that computes the area of a circle:"
   ]
  },
  {
   "cell_type": "code",
   "execution_count": 42,
   "metadata": {
    "ExecuteTime": {
     "end_time": "2019-03-06T00:18:49.571035Z",
     "start_time": "2019-03-06T00:18:49.555035Z"
    }
   },
   "outputs": [
    {
     "data": {
      "text/plain": [
       "12.566370614359172"
      ]
     },
     "execution_count": 42,
     "metadata": {},
     "output_type": "execute_result"
    }
   ],
   "source": [
    "# import the 'pi' variable from the math module\n",
    "from math import pi\n",
    "\n",
    "# define circle_area function\n",
    "def circle_area(radius):\n",
    "    return(pi * radius**2)\n",
    "\n",
    "# call the function with an argument of radius = 2\n",
    "circle_area(radius = 2)"
   ]
  },
  {
   "cell_type": "markdown",
   "metadata": {},
   "source": [
    "For more information about user-defined functions, refer to Programiz's [Python User-defined Functions](https://www.programiz.com/python-programming/user-defined-function) tutorial."
   ]
  },
  {
   "cell_type": "markdown",
   "metadata": {},
   "source": [
    "# <font color = '#526520'> Intro to Object Oriented Programming </font>\n",
    "\n",
    "Several of the most popular programming languages developed over the past few decades have incorporated object oriented principles in their design (i.e. Java, C++, C#, Python, Ruby, etc.) Although it would take more than just a few days to cover OOP in the detail it deserves, there are four key concepts that you can learn to help you get started with Python.\n",
    "\n",
    "Let's take a quick detour to a [video on Object Oriented Programming](https://www.youtube.com/watch?v=SS-9y0H3Si8).\n",
    "\n",
    "**Remember:** *Everything is an object* (and in Python you can check the type of an object with the `type()` function)\n",
    "\n",
    "## Classes, Attributes, & Methods\n",
    "\n",
    "The Python Documentation describes **classes** as [a means of bundling data and functionality together](https://docs.python.org/3.6/tutorial/classes.html). Classses can also be thought of as a 'blueprint' for defining a future object. When you create a class, you are creating a new **type** of object, which allows you to create new **instances** of that type.\n",
    "\n",
    "Most class instances have a defined set of attributes for *maintaining* its state. Classes also have methods (i.e. functions defined inside the class object) for *modifying* its state.\n",
    "\n",
    "- **classes** - the 'blueprint' for an object; a means of bundling data and functionality together\n",
    "- **objects (or instances)** - the thing that is created from the *class*\n",
    "- **attributes** - characteristics of an object\n",
    "- **methods** - the behavior of an object; the operations you can perform upon an object"
   ]
  },
  {
   "cell_type": "code",
   "execution_count": 43,
   "metadata": {
    "ExecuteTime": {
     "end_time": "2019-03-06T00:19:20.122035Z",
     "start_time": "2019-03-06T00:19:20.100035Z"
    }
   },
   "outputs": [
    {
     "name": "stdout",
     "output_type": "stream",
     "text": [
      "Mammal\n",
      "Rex Large Rust\n",
      "My dog Rex is 70 in dog years\n"
     ]
    }
   ],
   "source": [
    "#Example of classes/attributes/methods\n",
    "\n",
    "# example of creating an object class called 'Dog'\n",
    "class Dog(object):\n",
    "   \n",
    "    # class object attribute, all objects of this class will have these attributes\n",
    "    classification = 'Mammal'\n",
    "\n",
    "    # instance attributes, can vary from instance to instance\n",
    "    def __init__(self, name, age, size, color):\n",
    "        self.name = name\n",
    "        self.age = age\n",
    "        self.size = size\n",
    "        self.color = color\n",
    "    \n",
    "    # TO DO .... DEFINE METHOD FOR CAR OBJECT\n",
    "    def dog_years(self):\n",
    "        return(self.age * 7)\n",
    "        \n",
    "# example of instantiating a new object called 'oldTruck' from the car object class\n",
    "my_dog = Dog('Rex', 10, 'Large', 'Rust')\n",
    "\n",
    "# example of extracting class attributes from 'my_dog'\n",
    "print(my_dog.classification)\n",
    "\n",
    "# example of extracting instance attributes from 'my_dog'\n",
    "print(my_dog.name, my_dog.size, my_dog.color)\n",
    "\n",
    "# example of calling an instance method from 'my_dog'\n",
    "print('My dog ' + my_dog.name + ' is ' + str(my_dog.dog_years()) + ' in dog years')"
   ]
  },
  {
   "cell_type": "markdown",
   "metadata": {},
   "source": [
    "# <font color = '#526520'> Python Data Structures </font>\n",
    "\n",
    "Python has several built-in data structures useful for collecting and storing data. These are summarized in the table below:\n",
    "\n",
    "\n",
    "| Name | Description | Operator | Mutable? | Sorted? | Unique? | Paired? | Recursive? |\n",
    "|------|-------------|----------|----------|---------|---------|---------|---------|\n",
    "| List | Serial collection of objects | [...] | X |  |  |  | X |\n",
    "| Tuple | Immutable collection of objects | (...) |  |  |  |  | X |\n",
    "| Set | Unordered collection of unique objects | {...} | X | X | X |  |  |\n",
    "| Frozen Set | Immutable ordered collection of unique objects | frozenset(...) |  | X | X |  |  |\n",
    "| Dictionary | Unordered collection of unique key-value object pairs | {Key:Value} | X |  | X | X | X |\n",
    "\n",
    "*Mutable*: can values of an object can be changed after assignment? <br>\n",
    "*Sorted*: does the data structure sort order the elements of the object? <br>\n",
    "*Unique*: does the data structure force elements to be unique within the object? <br>\n",
    "*Paired*: does the data structure have a key-value structure? <br>\n",
    "*Recursive*: can the object be nested with itself or other objects? <br>\n",
    "\n",
    "In the interest of time, we won't cover tuples or frozen sets. Instead we will use this time to explore lists and dictionaries in greater detail. If you'd like to find out more about any of Python's data structures, refer to the [Python Tutorial on Data Structures](https://docs.python.org/3.6/tutorial/datastructures.html).\n",
    "\n",
    "## Lists\n",
    "### Definition\n",
    "* Lists are ordered collections of objects\n",
    " * List order is by default, defined by the order that items get added to the list not the value of the items\n",
    " * Lists can contain multiple data types\n",
    " * ``['string', 1, 1.024, True]`` <- all of these can fit into one list\n",
    "* Lists are zero-indexed (first item stored at index 0) \n",
    " * What is first and last index of the following list ``[1,2,3,4,5]``\n",
    " * Answer: ?\n",
    "* Python lists are modifiable (i.e. mutable)\n",
    " * Objects can be added and removed from lists\n",
    " * Any existing index can be updated\n",
    "* When building a Python list you do not need to declare the lists' size\n",
    "* Python lists point to a specific address in memory where objects are stored\n",
    " * If you set a variable equal to a list, even if it has a different name it will point to the same memory location meaning that modifying the original list or new variable will modify both.\n",
    " * You can always check the unique memory location of an object using the id function `id(object)`\n",
    " \n",
    "### List Syntax\n",
    "* In python lists can be created from scratch by wrapping your objects in brackets []\n",
    " * ``my_list = [1,2,3]``\n",
    "* lists can also include variables\n",
    " * ``variable_1 = 1, variable_2 = 2``\n",
    " * ``my_list = [variable1, variable2]`` \n",
    "\n",
    "### Common list functions\n",
    "\n",
    "Python has a lot of list functionality built in. Below are a few of the most common list functions. \n",
    "\n",
    "**len()**: returns number of objects in a list | ``len(list)``  \n",
    "**sum()**: returns a sum of the objects in a list | ``sum(list)`` <br>\n",
    "**sort()**: sorts objects in a list | ``list.sort()``  \n",
    "**count()**: counts the number of times an object appears in a list | ``list.count(x)``  \n"
   ]
  },
  {
   "cell_type": "code",
   "execution_count": 44,
   "metadata": {
    "ExecuteTime": {
     "end_time": "2019-03-06T00:19:51.356035Z",
     "start_time": "2019-03-06T00:19:51.344035Z"
    }
   },
   "outputs": [
    {
     "name": "stdout",
     "output_type": "stream",
     "text": [
      "['clear', 'copy', 'count', 'extend', 'index', 'insert', 'pop', 'remove', 'reverse', 'sort']\n"
     ]
    }
   ],
   "source": [
    "# View list of attributes and methods associated with list objects\n",
    "print(dir([])[36:])"
   ]
  },
  {
   "cell_type": "code",
   "execution_count": 2,
   "metadata": {
    "ExecuteTime": {
     "end_time": "2019-03-06T00:22:51.212035Z",
     "start_time": "2019-03-06T00:22:51.194035Z"
    }
   },
   "outputs": [
    {
     "name": "stdout",
     "output_type": "stream",
     "text": [
      "length of new list:\n",
      "0\n",
      "new list contents:\n",
      "[]\n"
     ]
    }
   ],
   "source": [
    "# create a new empty list \n",
    "new_list = []\n",
    "\n",
    "#check the length of the new list\n",
    "print('length of new list:')\n",
    "print(len(new_list)) # <--- length function returns the number of items in a list (index + 1)\n",
    "\n",
    "# print list contents\n",
    "print('new list contents:')\n",
    "print(new_list)"
   ]
  },
  {
   "cell_type": "code",
   "execution_count": 3,
   "metadata": {
    "ExecuteTime": {
     "end_time": "2019-03-06T00:22:55.131035Z",
     "start_time": "2019-03-06T00:22:55.114035Z"
    },
    "scrolled": true
   },
   "outputs": [
    {
     "name": "stdout",
     "output_type": "stream",
     "text": [
      "length of string list: \n",
      "3\n",
      "string list contents:\n",
      "['string1', 'string2', 'string3']\n",
      "<class 'list'>\n"
     ]
    }
   ],
   "source": [
    "#create a list of strings\n",
    "string_list = ['string1','string2','string3']\n",
    "\n",
    "#check the length of the string list\n",
    "print('length of string list: ')\n",
    "print(len(string_list))\n",
    "\n",
    "#print string list contents\n",
    "print('string list contents:')\n",
    "print(string_list) #<--- don't do this for a big list\n",
    "\n",
    "print(type(string_list))"
   ]
  },
  {
   "cell_type": "code",
   "execution_count": 4,
   "metadata": {
    "ExecuteTime": {
     "end_time": "2019-03-06T00:22:59.746035Z",
     "start_time": "2019-03-06T00:22:59.724035Z"
    }
   },
   "outputs": [
    {
     "name": "stdout",
     "output_type": "stream",
     "text": [
      "other list:  [10, 2, 3]\n",
      "base list:   [10, 2, 3]\n",
      "other list id: 115186504\n",
      "base list id: 115186504\n"
     ]
    }
   ],
   "source": [
    "#memory location example\n",
    "#create a list \n",
    "base_list = [1,2,3]\n",
    "\n",
    "#create a new list based off of base_list\n",
    "other_list = base_list\n",
    "\n",
    "#set first value of other list = 10\n",
    "other_list[0] = 10\n",
    "\n",
    "#check first value of other_list and base_list\n",
    "\n",
    "print('other list: ', other_list)\n",
    "print('base list:  ', base_list)\n",
    "\n",
    "#check id of other list and base list\n",
    "print('other list id:', id(other_list))\n",
    "print('base list id:', id(base_list))"
   ]
  },
  {
   "cell_type": "code",
   "execution_count": 48,
   "metadata": {
    "ExecuteTime": {
     "end_time": "2019-03-06T00:20:00.159035Z",
     "start_time": "2019-03-06T00:20:00.144035Z"
    }
   },
   "outputs": [
    {
     "name": "stdout",
     "output_type": "stream",
     "text": [
      "list1 id: 115639944\n",
      "list2 id: 115645704\n"
     ]
    }
   ],
   "source": [
    "#to create a copy of a list with a unique memory reference call the list function on the list you want to copy\n",
    "list1 = [1,2,3]\n",
    "print('list1 id:',id(list1))\n",
    "list2 = list(list1)\n",
    "print('list2 id:',id(list2))"
   ]
  },
  {
   "cell_type": "markdown",
   "metadata": {},
   "source": [
    "## Accessing Data in a list\n",
    "\n",
    "### Accessing using a single index\n",
    "Data can be accessed in a list by using a index or range of indices.  \n",
    "\n",
    "The syntax for accessing a single object in a list is as follows  \n",
    "\n",
    "``list_value = list[index]``  \n",
    "\n",
    "A short cut for accessing the last object in a list  \n",
    "\n",
    "``list[-1]`` <-- will return the last object\n",
    "\n",
    "Note: using a single index will return a single object\n"
   ]
  },
  {
   "cell_type": "code",
   "execution_count": 6,
   "metadata": {
    "ExecuteTime": {
     "end_time": "2019-03-06T00:23:42.308035Z",
     "start_time": "2019-03-06T00:23:40.473035Z"
    }
   },
   "outputs": [
    {
     "name": "stdout",
     "output_type": "stream",
     "text": [
      "What Index would you like? 5\n"
     ]
    },
    {
     "ename": "IndexError",
     "evalue": "list index out of range",
     "output_type": "error",
     "traceback": [
      "\u001b[1;31m---------------------------------------------------------------------------\u001b[0m",
      "\u001b[1;31mIndexError\u001b[0m                                Traceback (most recent call last)",
      "\u001b[1;32m<ipython-input-6-0cb506695fe4>\u001b[0m in \u001b[0;36m<module>\u001b[1;34m()\u001b[0m\n\u001b[0;32m      1\u001b[0m \u001b[1;31m#access the first string in our list of strings\u001b[0m\u001b[1;33m\u001b[0m\u001b[1;33m\u001b[0m\u001b[0m\n\u001b[0;32m      2\u001b[0m \u001b[0mindex\u001b[0m \u001b[1;33m=\u001b[0m \u001b[0mint\u001b[0m\u001b[1;33m(\u001b[0m\u001b[0minput\u001b[0m\u001b[1;33m(\u001b[0m\u001b[1;34m'What Index would you like? '\u001b[0m\u001b[1;33m)\u001b[0m\u001b[1;33m)\u001b[0m\u001b[1;33m\u001b[0m\u001b[0m\n\u001b[1;32m----> 3\u001b[1;33m \u001b[0mselected_string\u001b[0m \u001b[1;33m=\u001b[0m \u001b[0mstring_list\u001b[0m\u001b[1;33m[\u001b[0m\u001b[0mindex\u001b[0m\u001b[1;33m]\u001b[0m\u001b[1;33m\u001b[0m\u001b[0m\n\u001b[0m\u001b[0;32m      4\u001b[0m \u001b[0mprint\u001b[0m\u001b[1;33m(\u001b[0m\u001b[1;34m'Index: '\u001b[0m\u001b[1;33m,\u001b[0m\u001b[0mindex\u001b[0m\u001b[1;33m,\u001b[0m\u001b[1;34m'| Value: '\u001b[0m\u001b[1;33m,\u001b[0m\u001b[0mselected_string\u001b[0m\u001b[1;33m)\u001b[0m\u001b[1;33m\u001b[0m\u001b[0m\n",
      "\u001b[1;31mIndexError\u001b[0m: list index out of range"
     ]
    }
   ],
   "source": [
    "#access the first string in our list of strings\n",
    "index = int(input('What Index would you like? '))\n",
    "selected_string = string_list[index]\n",
    "print('Index: ',index,'| Value: ',selected_string)"
   ]
  },
  {
   "cell_type": "markdown",
   "metadata": {},
   "source": [
    "#### you can also access data using _slices_\n",
    "\n",
    "**slices**: a range of indices\n",
    "* A:B - will access all data from A (inclusive) to B (exclusive)\n",
    " * ``list[0:2]`` <-- this will return the first two objects (i.e. objects to the left of index 2) [index 0, index 1] \n",
    "* :A - will return all objects to the left of A\n",
    " * ``list[:2]`` <-- this will return the first two objects [index 0, index 1]\n",
    "* A: - will return all objects to the right of A\n",
    " * ``list[1:]`` <-- this will return all objects to the right of index 1\n",
    "\n",
    "\n"
   ]
  },
  {
   "cell_type": "code",
   "execution_count": 7,
   "metadata": {
    "ExecuteTime": {
     "end_time": "2019-03-06T00:23:48.543035Z",
     "start_time": "2019-03-06T00:23:48.527035Z"
    }
   },
   "outputs": [
    {
     "name": "stdout",
     "output_type": "stream",
     "text": [
      "['string1', 'string2']\n",
      "['string1', 'string2']\n"
     ]
    }
   ],
   "source": [
    "#create a list of strings\n",
    "string_list = ['string1','string2','string3']\n",
    "#get the first two items\n",
    "#using range\n",
    "print(string_list[0:2])\n",
    "#everything to the left of 2\n",
    "print(string_list[:2])"
   ]
  },
  {
   "cell_type": "code",
   "execution_count": 8,
   "metadata": {
    "ExecuteTime": {
     "end_time": "2019-03-06T00:23:49.827035Z",
     "start_time": "2019-03-06T00:23:49.817035Z"
    }
   },
   "outputs": [
    {
     "name": "stdout",
     "output_type": "stream",
     "text": [
      "string3\n"
     ]
    }
   ],
   "source": [
    "#get the last item in the list\n",
    "print(string_list[-1])"
   ]
  },
  {
   "cell_type": "code",
   "execution_count": 9,
   "metadata": {
    "ExecuteTime": {
     "end_time": "2019-03-06T00:23:50.919035Z",
     "start_time": "2019-03-06T00:23:50.908035Z"
    }
   },
   "outputs": [
    {
     "name": "stdout",
     "output_type": "stream",
     "text": [
      "['string2', 'string3']\n"
     ]
    }
   ],
   "source": [
    "#get everything but the first item\n",
    "#returns everything in the list to the right of index 1\n",
    "print(string_list[1:]) "
   ]
  },
  {
   "cell_type": "markdown",
   "metadata": {},
   "source": [
    "## Modyfing Lists\n",
    "\n",
    "### Adding objects to a list\n",
    "1. append function \n",
    " * ``list.append('item')``\n",
    "2. using the addition symbol\n",
    " * ``list = list + ['item']`` <-- two lists can be added together\n",
    " * _note this concatenates two lists and does not actually add the values_\n",
    "3. extend function\n",
    " * ``list.extend('item')``\n",
    " * helpful for merging data from two lists\n",
    "\n",
    "\n",
    "### Removing objects from a list\n",
    "1. pop -- removes an item from a list based on the index also returns the value\n",
    " * ``list.pop(index)``\n",
    "\n",
    "2. remove -- removes the first instance of a list item that matches the input\n",
    " * ``list.remove('item')``\n",
    " * ``list.remove('dog')`` <-- would remove the first instance of the string 'dog' in a list\n",
    "\n",
    "3. del -- deletes an index from a list \n",
    " * ``del list[index]``\n",
    "\n",
    "\n",
    "### Modifying objects in a list\n",
    "1. You can overwrite data stored in a list using an index\n",
    " * ``list[0] = 'test'`` <-- sets the value of index 0 to 'test'\n",
    " * ``list[0] = list[0] + 1`` <-- adds 1 to the value of index 0 and stores the new number at index 0\n",
    "\n",
    "\n"
   ]
  },
  {
   "cell_type": "code",
   "execution_count": 10,
   "metadata": {
    "ExecuteTime": {
     "end_time": "2019-03-06T00:23:55.771035Z",
     "start_time": "2019-03-06T00:23:55.764035Z"
    }
   },
   "outputs": [
    {
     "name": "stdout",
     "output_type": "stream",
     "text": [
      "original list:  3\n",
      "new list:  Three\n"
     ]
    }
   ],
   "source": [
    "#replacing data in a list\n",
    "our_list = [1,2,3,4]\n",
    "#print item at index 2 (3rd list item)\n",
    "print('original list: ', our_list[2])\n",
    "\n",
    "#replace item at index 2\n",
    "our_list[2] = 'Three'\n",
    "\n",
    "#print item at index 2\n",
    "print('new list: ', our_list[2])"
   ]
  },
  {
   "cell_type": "markdown",
   "metadata": {},
   "source": [
    "## Sets \n",
    "* Sets are like lists except they are __sort ordered__ and only contain __distinct__ values\n",
    " * sort ordered: sets maintain a sorted state that is dependent on the value of the variables stored within them. If you added an item to the set you would not be able to guarantee that it would be in the last index location like a list.\n",
    "* sets use curly braces instead of brackets \n",
    " * ``example_set = {'item1','item2','item3'}``\n",
    "* sets have no indices and are accessed by refererencing the objects contained within a set\n",
    "\n",
    "## Modifying sets\n",
    "\n",
    "### check if an item is in a set\n",
    "``check = 'item1' in example_set`` <-- False if not in set, True if in set\n",
    "\n",
    "### adding\n",
    "``example_set.add('new item')`` <-- adds an item to a set\n",
    "* question: would this item get added to the beginning or the end of a set?\n",
    "\n",
    "### removing\n",
    "``example_set.remove('new item')`` <-- removes the object 'new item' from the set\n",
    "\n"
   ]
  },
  {
   "cell_type": "code",
   "execution_count": 11,
   "metadata": {
    "ExecuteTime": {
     "end_time": "2019-03-06T00:23:57.565035Z",
     "start_time": "2019-03-06T00:23:57.551035Z"
    }
   },
   "outputs": [
    {
     "name": "stdout",
     "output_type": "stream",
     "text": [
      "{1, 2} {2, 3, 4}\n"
     ]
    }
   ],
   "source": [
    "#create sets from lists\n",
    "list1 = [1,2,1]\n",
    "list2 = [3,2,4]\n",
    "\n",
    "set1 = set(list1)\n",
    "set2 = set(list2)\n",
    "print(set1, set2)"
   ]
  },
  {
   "cell_type": "code",
   "execution_count": 12,
   "metadata": {
    "ExecuteTime": {
     "end_time": "2019-03-06T00:23:58.497035Z",
     "start_time": "2019-03-06T00:23:58.484035Z"
    }
   },
   "outputs": [
    {
     "name": "stdout",
     "output_type": "stream",
     "text": [
      "added a 3:  {1, 2, 3}\n"
     ]
    }
   ],
   "source": [
    "#add some items\n",
    "set1.add(3)\n",
    "print('added a 3: ', set1)"
   ]
  },
  {
   "cell_type": "code",
   "execution_count": 13,
   "metadata": {
    "ExecuteTime": {
     "end_time": "2019-03-06T00:23:59.466035Z",
     "start_time": "2019-03-06T00:23:59.453035Z"
    }
   },
   "outputs": [
    {
     "name": "stdout",
     "output_type": "stream",
     "text": [
      "removed the 2:  {1, 3}\n"
     ]
    }
   ],
   "source": [
    "#remove the 2\n",
    "set1.remove(2)\n",
    "print('removed the 2: ', set1)"
   ]
  },
  {
   "cell_type": "code",
   "execution_count": 14,
   "metadata": {
    "ExecuteTime": {
     "end_time": "2019-03-06T00:24:01.975035Z",
     "start_time": "2019-03-06T00:24:01.964035Z"
    }
   },
   "outputs": [
    {
     "name": "stdout",
     "output_type": "stream",
     "text": [
      "True\n"
     ]
    }
   ],
   "source": [
    "#check if 1 is in the set\n",
    "check = 1 in set1 # <-- assigns boolean outcome to variable\n",
    "print(check)"
   ]
  },
  {
   "cell_type": "code",
   "execution_count": 15,
   "metadata": {
    "ExecuteTime": {
     "end_time": "2019-03-06T00:24:11.115035Z",
     "start_time": "2019-03-06T00:24:11.097035Z"
    },
    "scrolled": true
   },
   "outputs": [
    {
     "name": "stdout",
     "output_type": "stream",
     "text": [
      "set 1 {1, 3}\n",
      "set 2 {2, 3, 4}\n",
      "intersection:  {3}\n"
     ]
    }
   ],
   "source": [
    "#get intersection of two sets\n",
    "print(\"set 1\", set1)\n",
    "print(\"set 2\", set2)\n",
    "print(\"intersection: \", set1.intersection(set2))"
   ]
  },
  {
   "cell_type": "code",
   "execution_count": 16,
   "metadata": {
    "ExecuteTime": {
     "end_time": "2019-03-06T00:24:12.337035Z",
     "start_time": "2019-03-06T00:24:12.277035Z"
    }
   },
   "outputs": [
    {
     "data": {
      "text/plain": [
       "['__and__',\n",
       " '__class__',\n",
       " '__contains__',\n",
       " '__delattr__',\n",
       " '__dir__',\n",
       " '__doc__',\n",
       " '__eq__',\n",
       " '__format__',\n",
       " '__ge__',\n",
       " '__getattribute__',\n",
       " '__gt__',\n",
       " '__hash__',\n",
       " '__iand__',\n",
       " '__init__',\n",
       " '__init_subclass__',\n",
       " '__ior__',\n",
       " '__isub__',\n",
       " '__iter__',\n",
       " '__ixor__',\n",
       " '__le__',\n",
       " '__len__',\n",
       " '__lt__',\n",
       " '__ne__',\n",
       " '__new__',\n",
       " '__or__',\n",
       " '__rand__',\n",
       " '__reduce__',\n",
       " '__reduce_ex__',\n",
       " '__repr__',\n",
       " '__ror__',\n",
       " '__rsub__',\n",
       " '__rxor__',\n",
       " '__setattr__',\n",
       " '__sizeof__',\n",
       " '__str__',\n",
       " '__sub__',\n",
       " '__subclasshook__',\n",
       " '__xor__',\n",
       " 'add',\n",
       " 'clear',\n",
       " 'copy',\n",
       " 'difference',\n",
       " 'difference_update',\n",
       " 'discard',\n",
       " 'intersection',\n",
       " 'intersection_update',\n",
       " 'isdisjoint',\n",
       " 'issubset',\n",
       " 'issuperset',\n",
       " 'pop',\n",
       " 'remove',\n",
       " 'symmetric_difference',\n",
       " 'symmetric_difference_update',\n",
       " 'union',\n",
       " 'update']"
      ]
     },
     "execution_count": 16,
     "metadata": {},
     "output_type": "execute_result"
    }
   ],
   "source": [
    "#list all of the built-in set methods\n",
    "dir(set1)"
   ]
  },
  {
   "cell_type": "markdown",
   "metadata": {},
   "source": [
    "### Set Operations\n",
    "\n",
    "In addition to what's been demonstrated above, Python's **set** type is also very useful for performing operations such as intersection, union, difference, and more!"
   ]
  },
  {
   "cell_type": "code",
   "execution_count": 17,
   "metadata": {
    "ExecuteTime": {
     "end_time": "2019-03-06T00:24:14.494035Z",
     "start_time": "2019-03-06T00:24:14.470035Z"
    }
   },
   "outputs": [
    {
     "name": "stdout",
     "output_type": "stream",
     "text": [
      "{1, 2, 3, 4, 5, 6, 7, 8, 9, 10, 11}\n",
      "{6}\n",
      "{1, 2, 3, 4, 5}\n",
      "{1, 2, 3, 4, 5, 7, 8, 9, 10, 11}\n",
      "False\n",
      "True\n",
      "True\n",
      "True\n"
     ]
    }
   ],
   "source": [
    "#Example of set operations in Python\n",
    "\n",
    "# let's define some sets to start: set1 and set2 will share a common element'6', set3 will be a subset of set1\n",
    "set1 = {1, 2, 3, 4, 5, 6}\n",
    "set2 = {6, 7, 8, 9, 10, 11}\n",
    "set3 = {3, 4, 5}\n",
    "set4 = {99, 100}\n",
    "\n",
    "# (1)\n",
    "# return the union of set1 and set2\n",
    "print(set1.union(set2))\n",
    "\n",
    "# (2)\n",
    "# return the intersection of set1 and set2\n",
    "print(set1.intersection(set2))\n",
    "\n",
    "# (3)\n",
    "# return the difference of set1 from set2\n",
    "print(set1.difference(set2))\n",
    "\n",
    "# (4)\n",
    "# return the symmetric difference of set1 and set2\n",
    "print(set1.symmetric_difference(set2))\n",
    "\n",
    "# (5)\n",
    "# check to see whether two sets are disjoint (do not contain shared elements)\n",
    "print(set1.isdisjoint(set2))\n",
    "print(set1.isdisjoint(set4))\n",
    "\n",
    "# (6)\n",
    "# check to see whether set1 is a superset of set 3\n",
    "print(set1.issuperset(set3))\n",
    "\n",
    "# (7)\n",
    "# check to see whether set 3 is a subset of set1\n",
    "print(set3.issubset(set1))\n"
   ]
  },
  {
   "cell_type": "markdown",
   "metadata": {},
   "source": [
    "## Dictionaries\n",
    "* dictionaries are **key** and **value** pairings that allow for efficient organization / easy retrieval of information.\n",
    "* dictionaries are often used to store attributes\n",
    "* keys have to be unique\n",
    "* keys can be overwritten and values can be modified\n",
    "* values can be any data type\n",
    "* you can assigns lists to a key in a dictionary\n",
    "\n",
    "### Syntax for creating a very basic dictionary\n",
    "\n",
    "``test_dict = {'key':'value'}``\n",
    "\n",
    "For example, a dictionary about an employee may look something like this\n",
    "\n",
    "``employee_dict = {\n",
    "'name':'John Smith',\n",
    "'position': 'CEO',\n",
    "'salary': 2000000\n",
    "'favorite foods': ['pizza','pb&j','pasta']\n",
    "}``\n"
   ]
  },
  {
   "cell_type": "code",
   "execution_count": 18,
   "metadata": {
    "ExecuteTime": {
     "end_time": "2019-03-06T00:24:16.150035Z",
     "start_time": "2019-03-06T00:24:16.140035Z"
    }
   },
   "outputs": [
    {
     "name": "stdout",
     "output_type": "stream",
     "text": [
      "['__subclasshook__', 'clear', 'copy', 'fromkeys', 'get', 'items', 'keys', 'pop', 'popitem', 'setdefault', 'update', 'values']\n"
     ]
    }
   ],
   "source": [
    "print(dir({})[28:])"
   ]
  },
  {
   "cell_type": "code",
   "execution_count": 19,
   "metadata": {
    "ExecuteTime": {
     "end_time": "2019-03-06T00:24:16.897035Z",
     "start_time": "2019-03-06T00:24:16.870035Z"
    }
   },
   "outputs": [
    {
     "name": "stdout",
     "output_type": "stream",
     "text": [
      "Employee Dict Step 2:  {'name': 'John Smith'}\n"
     ]
    }
   ],
   "source": [
    "# lets build the employee dictionary from scratch\n",
    "# step 1 create an empty dictionary\n",
    "employee_dict = {}\n",
    "\n",
    "#step 2 add our first key / value pair\n",
    "employee_dict['name'] = 'John Smith'\n",
    "print('Employee Dict Step 2: ', employee_dict)"
   ]
  },
  {
   "cell_type": "code",
   "execution_count": 20,
   "metadata": {
    "ExecuteTime": {
     "end_time": "2019-03-06T00:24:17.852035Z",
     "start_time": "2019-03-06T00:24:17.839035Z"
    }
   },
   "outputs": [
    {
     "name": "stdout",
     "output_type": "stream",
     "text": [
      "Employee Dict Step 3:  {'name': 'John Smith', 'position': 'CEO', 'salary': 2000000}\n"
     ]
    }
   ],
   "source": [
    "#step 3 add our othe value / key pairs\n",
    "employee_dict['position'] = 'CEO'\n",
    "employee_dict['salary'] = 2000000\n",
    "print('Employee Dict Step 3: ', employee_dict)"
   ]
  },
  {
   "cell_type": "code",
   "execution_count": 21,
   "metadata": {
    "ExecuteTime": {
     "end_time": "2019-03-06T00:24:18.431035Z",
     "start_time": "2019-03-06T00:24:18.418035Z"
    }
   },
   "outputs": [
    {
     "name": "stdout",
     "output_type": "stream",
     "text": [
      "Employee Dict Alternative:  {'name': 'John Smith', 'position': 'CEO', 'salary': 2000000}\n"
     ]
    }
   ],
   "source": [
    "#another way would be to manually type in the key / value pairs\n",
    "employee_dict = {'name':'John Smith','position':'CEO','salary':2000000}\n",
    "print('Employee Dict Alternative: ', employee_dict)"
   ]
  },
  {
   "cell_type": "code",
   "execution_count": 22,
   "metadata": {
    "ExecuteTime": {
     "end_time": "2019-03-06T00:24:18.902035Z",
     "start_time": "2019-03-06T00:24:18.726035Z"
    }
   },
   "outputs": [
    {
     "name": "stdout",
     "output_type": "stream",
     "text": [
      "employee name:  John Smith\n"
     ]
    }
   ],
   "source": [
    "#access the employees name\n",
    "employee_name = employee_dict['name']\n",
    "print('employee name: ', employee_name)"
   ]
  },
  {
   "cell_type": "code",
   "execution_count": 23,
   "metadata": {
    "ExecuteTime": {
     "end_time": "2019-03-06T00:24:19.317035Z",
     "start_time": "2019-03-06T00:24:19.305035Z"
    }
   },
   "outputs": [
    {
     "name": "stdout",
     "output_type": "stream",
     "text": [
      "employee salary:  3000000\n"
     ]
    }
   ],
   "source": [
    "#our employee deserves a raise, change that salary\n",
    "employee_dict['salary'] = 3000000\n",
    "print('employee salary: ', employee_dict['salary'])"
   ]
  },
  {
   "cell_type": "code",
   "execution_count": 24,
   "metadata": {
    "ExecuteTime": {
     "end_time": "2019-03-06T00:24:19.955035Z",
     "start_time": "2019-03-06T00:24:19.944035Z"
    }
   },
   "outputs": [
    {
     "name": "stdout",
     "output_type": "stream",
     "text": [
      "list of keys:  dict_keys(['name', 'position', 'salary'])\n"
     ]
    }
   ],
   "source": [
    "#get list of all keys in a dictionary\n",
    "key_list = employee_dict.keys()\n",
    "print('list of keys: ', key_list)"
   ]
  },
  {
   "cell_type": "code",
   "execution_count": 25,
   "metadata": {
    "ExecuteTime": {
     "end_time": "2019-03-06T00:24:20.560035Z",
     "start_time": "2019-03-06T00:24:20.552035Z"
    }
   },
   "outputs": [
    {
     "name": "stdout",
     "output_type": "stream",
     "text": [
      "name John Smith\n",
      "position CEO\n",
      "salary 3000000\n"
     ]
    }
   ],
   "source": [
    "#Advanced dictionary manuevers\n",
    "#loop through data contained in a dictionary using the items method\n",
    "#this allows you to access each item contained within a dictionary\n",
    "for key, value in employee_dict.items():\n",
    "    print(key,value)"
   ]
  },
  {
   "cell_type": "markdown",
   "metadata": {},
   "source": [
    "## Tuples\n",
    "Tuples are immutable variables that contain sequenced information (aka: similiar to a list but without the ability to modify)\n",
    "\n",
    "Source for more information on [Tuples](http://openbookproject.net/thinkcs/python/english3e/tuples.html)"
   ]
  },
  {
   "cell_type": "markdown",
   "metadata": {},
   "source": [
    "# <font color = '#526520'> Example time </font>"
   ]
  }
 ],
 "metadata": {
  "celltoolbar": "Raw Cell Format",
  "kernelspec": {
   "display_name": "Python [conda env:root]",
   "language": "python",
   "name": "conda-root-py"
  },
  "varInspector": {
   "cols": {
    "lenName": 16,
    "lenType": 16,
    "lenVar": 40
   },
   "kernels_config": {
    "python": {
     "delete_cmd_postfix": "",
     "delete_cmd_prefix": "del ",
     "library": "var_list.py",
     "varRefreshCmd": "print(var_dic_list())"
    },
    "r": {
     "delete_cmd_postfix": ") ",
     "delete_cmd_prefix": "rm(",
     "library": "var_list.r",
     "varRefreshCmd": "cat(var_dic_list()) "
    }
   },
   "types_to_exclude": [
    "module",
    "function",
    "builtin_function_or_method",
    "instance",
    "_Feature"
   ],
   "window_display": false
  }
 },
 "nbformat": 4,
 "nbformat_minor": 2
}
