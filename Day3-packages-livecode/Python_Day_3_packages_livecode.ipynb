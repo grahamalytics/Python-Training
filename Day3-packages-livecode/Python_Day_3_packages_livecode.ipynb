{
 "cells": [
  {
   "cell_type": "markdown",
   "metadata": {},
   "source": [
    "# Brierley Python Training Day 3"
   ]
  },
  {
   "cell_type": "markdown",
   "metadata": {},
   "source": [
    "# <font color = '#526520'> What Else Can Python Do? </font>\n",
    "\n",
    "This training has introduced Python largely in the context of data analysis, which might leave you wondering, \"I thought Python was general-purpose programming language?! What else can I do with it?\" \n",
    "\n",
    "That is a great question to which the answer is \"**LOTS and LOTS OF COOL STUFF!**\". Let's take a look...\n",
    "\n",
    "* [PyPI: the Python Package Index](https://pypi.python.org/pypi) - this is an repository of over 117K packages covering a variety of topics, domains, and applications.  This list is administered by PyPI admins and apart of the official Python documentation/website.\n",
    "\n",
    "* [Curated List of Awesome Python Resources](https://github.com/vinta/awesome-python) - although not an *offical* Python resource, this is a great list of popular Python packages categorized by task."
   ]
  },
  {
   "cell_type": "markdown",
   "metadata": {},
   "source": [
    "# <font color = '#526520'> Managing Python Packages </font>\n",
    "\n",
    "## What Is There to Manage?\n",
    "\n",
    "The Anaconda Python Distribution makes life a little easier when getting started with Python as it comes preconfigured with many of the most popular Python packages for data analysis. However, you will come to a point where a package you'd like to use is not included and so you will have to download and install it. Furthermore the packages you use will continue to develop and include new features over time, which will require you to update your packages. All of this, and more, is broadly defined as **package management**- and there are tools to make it a simple task.\n",
    "\n",
    "## Conda Install\n",
    "\n",
    "The Anaconda Python Distribution has its own package manager called **conda**. The complete documentation available within the [Conda User Guide: Managing Packages](https://conda.io/docs/user-guide/tasks/manage-pkgs.html), and we will review some of the key commands below.\n",
    "\n",
    "*It is important to note that you will be running these commands within the **terminal or Anaconda Prompt***\n",
    "\n",
    "Also there is a concept of 'environments' within Python, which is a way to have different versions of Python and associated packages all on the same machine. We will skip this for now, but it is mentioned because if you maintain different environments then you will want to specify which environment you are managing. If this is something you want to explore then the [Conda User Guide: Managing Environments](https://conda.io/docs/user-guide/tasks/manage-environments.html) is a good place to start.\n",
    "\n",
    "### Search if a package is available for installation\n",
    "`conda search [package name]`\n",
    "\n",
    "### Return a list of installed packages\n",
    "`conda list`\n",
    "\n",
    "### Install a package\n",
    "`conda install [package name]`\n",
    "\n",
    "### Update a package\n",
    "`conda update [package name]`\n",
    "\n",
    "### Removing a package\n",
    "`conda remove [package name]`\n",
    "\n",
    "## Pip Install\n",
    "\n",
    "Pip is another recommended tool for Python package management which exists independent of Anaconda (although it is included in the distribution and they work in conjunction). Typically you will use the pip install for packages that you cannot download with conda. \n",
    "\n",
    "Again we will cover the basic commands, but it is worth looking through the [Pip documentation](https://pip.pypa.io/en/stable/), especially the *Quickstart* section.\n",
    "\n",
    "### Search if a package is available for installation\n",
    "`pip search [package name]`\n",
    "\n",
    "### Return a list of installed packages\n",
    "`pip list`\n",
    "\n",
    "* If you're using the Anaconda distribution and download a package via pip, you will want to verify that that package was installed and can be referenced by Anaconda by using this command and validating that the package name appears.\n",
    "\n",
    "### Install a package\n",
    "`pip install [package name]`\n",
    "\n",
    "### Update a package\n",
    "`pip install --update [package name]`\n",
    "\n",
    "### Removing a package\n",
    "`pip uninstall [package name]`"
   ]
  },
  {
   "cell_type": "markdown",
   "metadata": {},
   "source": [
    "# <font color = '#526520'> Live Coding Exercise </font>\n",
    "\n",
    "This training is by no means an exhaustive exploration of Python, but rather a capable introduction meant to peak your interests and begin your journey into Python programming. You might not be an expert *Pythonista* (yet!), don't fool yourself: you now know enough about Python to start writing scripts and developing programs.\n",
    "\n",
    "Don't believe it?! Let's prove it by working together through a coding exercise in which you will touch upon the following:\n",
    "\n",
    "* Working with the *working directory*\n",
    "* Creating and working with Pandas DataFrames \n",
    "* A little bit of Numpy operations\n",
    "* Defining your own function!\n",
    "* Data I/O\n",
    "\n",
    "Open the *Live_Code.py* file with the Spyder IDE. Using the commented instructions as a guide, we will practice writing a program to read-in data, operate on DataFrames, perform a quintile analysis, and write the results back to disk.\n",
    "\n",
    "*Don't overthink this exercise, the task can be completed in less than 30 lines of actual code*\n",
    "\n",
    "*This will be a great opportunity to really **warm-up to the documentation** and get used to finding answers to your questions online*\n"
   ]
  },
  {
   "cell_type": "markdown",
   "metadata": {},
   "source": [
    "# <font color = '#526520'> Example Time </font>"
   ]
  }
 ],
 "metadata": {
  "kernelspec": {
   "display_name": "Python [conda env:root]",
   "language": "python",
   "name": "conda-root-py"
  },
  "language_info": {
   "codemirror_mode": {
    "name": "ipython",
    "version": 3
   },
   "file_extension": ".py",
   "mimetype": "text/x-python",
   "name": "python",
   "nbconvert_exporter": "python",
   "pygments_lexer": "ipython3",
   "version": "3.6.5"
  },
  "varInspector": {
   "cols": {
    "lenName": 16,
    "lenType": 16,
    "lenVar": 40
   },
   "kernels_config": {
    "python": {
     "delete_cmd_postfix": "",
     "delete_cmd_prefix": "del ",
     "library": "var_list.py",
     "varRefreshCmd": "print(var_dic_list())"
    },
    "r": {
     "delete_cmd_postfix": ") ",
     "delete_cmd_prefix": "rm(",
     "library": "var_list.r",
     "varRefreshCmd": "cat(var_dic_list()) "
    }
   },
   "types_to_exclude": [
    "module",
    "function",
    "builtin_function_or_method",
    "instance",
    "_Feature"
   ],
   "window_display": false
  }
 },
 "nbformat": 4,
 "nbformat_minor": 2
}
